{
 "cells": [
  {
   "cell_type": "code",
   "execution_count": 1,
   "metadata": {},
   "outputs": [
    {
     "name": "stdout",
     "output_type": "stream",
     "text": [
      "\n",
      "Welcome to .NET Core 3.1!\n",
      "---------------------\n",
      "SDK Version: 3.1.401\n",
      "\n",
      "Telemetry\n",
      "---------\n",
      "The .NET Core tools collect usage data in order to help us improve your experience. The data is anonymous. It is collected by Microsoft and shared with the community. You can opt-out of telemetry by setting the DOTNET_CLI_TELEMETRY_OPTOUT environment variable to '1' or 'true' using your favorite shell.\n",
      "\n",
      "Read more about .NET Core CLI Tools telemetry: https://aka.ms/dotnet-cli-telemetry\n",
      "\n",
      "----------------\n",
      "Explore documentation: https://aka.ms/dotnet-docs\n",
      "Report issues and find source on GitHub: https://github.com/dotnet/core\n",
      "Find out what's new: https://aka.ms/dotnet-whats-new\n",
      "Learn about the installed HTTPS developer cert: https://aka.ms/aspnet-core-https\n",
      "Use 'dotnet --help' to see available commands or visit: https://aka.ms/dotnet-cli-docs\n",
      "Write your first app: https://aka.ms/first-net-core-app\n",
      "--------------------------------------------------------------------------------------\n",
      "\u001b[?1h\u001b=Getting ready...\n",
      "The template \"Solution File\" was created successfully.\n"
     ]
    }
   ],
   "source": [
    "!dotnet new sln -o FSNetCore"
   ]
  },
  {
   "cell_type": "code",
   "execution_count": 2,
   "metadata": {},
   "outputs": [
    {
     "name": "stdout",
     "output_type": "stream",
     "text": [
      "The template \"Class library\" was created successfully.\n",
      "\n",
      "Processing post-creation actions...\n",
      "Running 'dotnet restore' on src/Library/Library.fsproj...\n",
      "  Determining projects to restore...\n",
      "  Restored /home/jovyan/FSNetCore/src/Library/Library.fsproj (in 2.55 sec).\n",
      "\n",
      "Restore succeeded.\n",
      "\n"
     ]
    }
   ],
   "source": [
    "!cd FSNetCore && dotnet new classlib -lang \"F#\" -o src/Library"
   ]
  },
  {
   "cell_type": "code",
   "execution_count": 4,
   "metadata": {},
   "outputs": [
    {
     "name": "stdout",
     "output_type": "stream",
     "text": [
      "\u001b[?1h\u001b=\u001b[?1h\u001b=\u001b[?1h\u001b=  Determining projects to restore...\n",
      "\u001b[?1h\u001b=  Writing /tmp/tmpGKm55R.tmp\n",
      "\u001b[?1h\u001b=info : Adding PackageReference for package 'Newtonsoft.Json' into project 'src/Library/Library.fsproj'.\n",
      "info : Restoring packages for /home/jovyan/FSNetCore/src/Library/Library.fsproj...\n",
      "info :   GET https://api.nuget.org/v3-flatcontainer/newtonsoft.json/index.json\n",
      "info :   OK https://api.nuget.org/v3-flatcontainer/newtonsoft.json/index.json 817ms\n",
      "info :   GET https://api.nuget.org/v3-flatcontainer/newtonsoft.json/12.0.3/newtonsoft.json.12.0.3.nupkg\n",
      "info :   OK https://api.nuget.org/v3-flatcontainer/newtonsoft.json/12.0.3/newtonsoft.json.12.0.3.nupkg 5ms\n",
      "info : Installing Newtonsoft.Json 12.0.3.\n",
      "info : Package 'Newtonsoft.Json' is compatible with all the specified frameworks in project 'src/Library/Library.fsproj'.\n",
      "info : PackageReference for package 'Newtonsoft.Json' version '12.0.3' added to file '/home/jovyan/FSNetCore/src/Library/Library.fsproj'.\n",
      "info : Committing restore...\n",
      "info : Writing assets file to disk. Path: /home/jovyan/FSNetCore/src/Library/obj/project.assets.json\n",
      "log  : Restored /home/jovyan/FSNetCore/src/Library/Library.fsproj (in 1.27 sec).\n",
      "\u001b[?1h\u001b="
     ]
    }
   ],
   "source": [
    "!cd FSNetCore && dotnet add src/Library/Library.fsproj package Newtonsoft.Json"
   ]
  },
  {
   "cell_type": "code",
   "execution_count": 5,
   "metadata": {},
   "outputs": [
    {
     "name": "stdout",
     "output_type": "stream",
     "text": [
      "Project `src/Library/Library.fsproj` added to the solution.\n"
     ]
    }
   ],
   "source": [
    "!cd FSNetCore && dotnet sln add src/Library/Library.fsproj"
   ]
  },
  {
   "cell_type": "code",
   "execution_count": 6,
   "metadata": {},
   "outputs": [
    {
     "name": "stdout",
     "output_type": "stream",
     "text": [
      "The template \"Console Application\" was created successfully.\n",
      "\n",
      "Processing post-creation actions...\n",
      "Running 'dotnet restore' on src/App/App.fsproj...\n",
      "  Determining projects to restore...\n",
      "  Restored /home/jovyan/FSNetCore/src/App/App.fsproj (in 205 ms).\n",
      "\n",
      "Restore succeeded.\n",
      "\n"
     ]
    }
   ],
   "source": [
    "!cd FSNetCore && dotnet new console -lang \"F#\" -o src/App"
   ]
  },
  {
   "cell_type": "code",
   "execution_count": 7,
   "metadata": {},
   "outputs": [
    {
     "name": "stdout",
     "output_type": "stream",
     "text": [
      "Reference `..\\Library\\Library.fsproj` added to the project.\n"
     ]
    }
   ],
   "source": [
    "!cd FSNetCore && dotnet add src/App/App.fsproj reference src/Library/Library.fsproj"
   ]
  },
  {
   "cell_type": "code",
   "execution_count": 8,
   "metadata": {},
   "outputs": [
    {
     "name": "stdout",
     "output_type": "stream",
     "text": [
      "Project `src/App/App.fsproj` added to the solution.\n"
     ]
    }
   ],
   "source": [
    "!cd FSNetCore && dotnet sln add src/App/App.fsproj"
   ]
  },
  {
   "cell_type": "code",
   "execution_count": 10,
   "metadata": {},
   "outputs": [
    {
     "name": "stdout",
     "output_type": "stream",
     "text": [
      "\u001b[?1h\u001b=\u001b[?1h\u001b=\u001b[?1h\u001b=\u001b[?1h\u001b=\u001b[?1h\u001b=\u001b[?1h\u001b=\u001b[?1h\u001b=\u001b[?1h\u001b=Nice command-line arguments! Here's what JSON.NET has to say about them:\n",
      "I used to be Hello but now I'm \"Hello\" thanks to JSON.NET!\n",
      "I used to be World but now I'm \"World\" thanks to JSON.NET!\n",
      "\u001b[?1h\u001b="
     ]
    }
   ],
   "source": [
    "!cd FSNetCore/src/App && dotnet run Hello World"
   ]
  }
 ],
 "metadata": {
  "kernelspec": {
   "display_name": "Python 3",
   "language": "python",
   "name": "python3"
  },
  "language_info": {
   "codemirror_mode": {
    "name": "ipython",
    "version": 3
   },
   "file_extension": ".py",
   "mimetype": "text/x-python",
   "name": "python",
   "nbconvert_exporter": "python",
   "pygments_lexer": "ipython3",
   "version": "3.8.5"
  }
 },
 "nbformat": 4,
 "nbformat_minor": 4
}
