{
 "cells": [
  {
   "cell_type": "code",
   "execution_count": 1,
   "metadata": {},
   "outputs": [],
   "source": [
    "import requests\n",
    "import json\n",
    "import urllib"
   ]
  },
  {
   "cell_type": "code",
   "execution_count": 2,
   "metadata": {},
   "outputs": [],
   "source": [
    "HOST = \"bingsearch\"\n",
    "NAMESPACE = \"sNNNNNNN\"\n",
    "PORT = \"5000\"\n",
    "QUERY = urllib.parse.quote(\"武田信玄\")\n",
    "\n",
    "URL = \"http://\" + HOST + \".\" + NAMESPACE + \":\" + PORT + \"/?q=\" + QUERY"
   ]
  },
  {
   "cell_type": "code",
   "execution_count": 3,
   "metadata": {},
   "outputs": [
    {
     "data": {
      "text/plain": [
       "'http://bingsearch.sNNNNNNN:5000/?q=%E6%AD%A6%E7%94%B0%E4%BF%A1%E7%8E%84'"
      ]
     },
     "execution_count": 3,
     "metadata": {},
     "output_type": "execute_result"
    }
   ],
   "source": [
    "URL"
   ]
  },
  {
   "cell_type": "code",
   "execution_count": 4,
   "metadata": {},
   "outputs": [],
   "source": [
    "response = requests.get(URL).json()"
   ]
  },
  {
   "cell_type": "code",
   "execution_count": 5,
   "metadata": {},
   "outputs": [
    {
     "name": "stdout",
     "output_type": "stream",
     "text": [
      "title: 武田信玄 - Wikipedia\n",
      "snippet: 武田 信玄（たけだ しんげん） / 武田 晴信（たけだ はるのぶ）は、戦国時代の武将、甲斐の守護大名・戦国大名。 甲斐源氏の嫡流にあたる甲斐武田家第19代当主。 諱は晴信、通称は太郎（たろう）。 「信玄」とは（出家後の）法名で、正式には徳栄軒信玄。 1915年（大正4年）11月10日に従三位 ...\n",
      "url: https://ja.wikipedia.org/wiki/%E6%AD%A6%E7%94%B0%E4%BF%A1%E7%8E%84\n",
      "\n",
      "title: 武田信玄の解説 智力溢れる戦略と人物像・性格・トイレは？ -武将辞典\n",
      "snippet: 武田信玄甲斐の虎と呼ばれた、戦国大名・武田信玄。甲斐源氏の武田信玄(たけだ-しんげん)でしたが、甲斐国を統一した武田家でも、下剋上の世の中では、他の源氏の家系や親戚筋が権力を狙ったりと、闘争は絶えません。\n",
      "url: https://senjp.com/takeda/\n",
      "\n",
      "title: 【刀剣ワールド】武田信玄｜戦国武将\n",
      "snippet: 「武田信玄」は、甲斐（現在の山梨県）の戦国大名です。「甲斐の虎」と呼ばれた武田軍は当時最強と言われ、その武勇は「織田信長」も恐れさせるほどでした。武田信玄が上洛を前に病に倒れることがなければ、日本の歴史は変わっていたかもしれないとも評されています。\n",
      "url: https://www.touken-world.jp/tips/7482/\n",
      "\n",
      "title: 武田信玄の本名はなんでしょう？｜こたえあわせ\n",
      "snippet: こたえあわせ：武田信玄の本名はなんでしょう？ 武田影虎 武田晴信 武田謙信 武田信光 武田晴信\n",
      "url: https://hifumi.xxxx.jp/2282/\n",
      "\n",
      "title: 武田信玄 - 甲府市\n",
      "snippet: 武田信玄. 戦国武将・武田信玄というと、上杉謙信との川中島の合戦があまりにも有名ですが、政治家としても優れた手腕を発揮しています。 特筆されるのは釜無川に信玄堤を築いて氾濫を抑え、新田の開発を可能にした点です。\n",
      "url: https://www.city.kofu.yamanashi.jp/welcome/rekishi/shingen.html\n",
      "\n",
      "title: 武田信玄の名言20選｜心に響く言葉 | LIVE THE WAY\n",
      "snippet: 武田信玄のプロフィール武田信玄（たけだ しんげん）・1521年12月1日に生まれ、1573年5月13日に亡くなる。・戦国時代の武将、甲斐の守護大名・戦国大名。・甲斐源氏の嫡流にあたる甲斐武田家第19代当主。・先代・信虎期に武田氏は守護大名から戦国大名化して国内統一を達成し、信玄も体制を ...\n",
      "url: https://live-the-way.com/great-man/history/takeda-shingen/\n",
      "\n",
      "title: 武田信玄の名言・格言（戦国時代の武将の言葉） | 名言+Quotes\n",
      "snippet: 武田信玄の名言. 人間にとって学問は、木の枝に繁る葉と同じだ。 武田信玄の名言. 自分のしたいことより、嫌なことを先にせよ。この心構えさえあれば、道の途中で挫折したり、身を滅ぼしたりするようなことはないはずだ。 武田信玄の名言\n",
      "url: https://meigen-ijin.com/takedashingen/\n",
      "\n",
      "title: 武田信玄 (NHK大河ドラマ) - Wikipedia\n",
      "snippet: 武田家 武田信玄（たけだ しんげん） （武田晴信→武田信玄） 演：中井貴一（少年期：真木蔵人） 甲斐の国主。当初の名は晴信（はるのぶ）。目的のためなら手段を選ばないマキャベリストだが情に厚く、家臣・領民への気配りを常に怠らない。しかし ...\n",
      "url: https://ja.wikipedia.org/wiki/%E6%AD%A6%E7%94%B0%E4%BF%A1%E7%8E%84_%28NHK%E5%A4%A7%E6%B2%B3%E3%83%89%E3%83%A9%E3%83%9E%29\n",
      "\n",
      "title: 武田信玄とはどんな人物？簡単に説明【完全版まとめ】 | 歴史上の人物.com\n",
      "snippet: 織田信長に怖れられ、上杉謙信うえすぎけんしんの好敵手だった 戦国武将・武田信玄たけだしんげん。 「風林火山」の旗印も勇ましい人気の武将・信玄がどんな人物だったのか見ていきましょう。 武田信玄はどんな人？ 武田信玄出典：Wikipedia 出身地：甲斐国（現在の山梨県） 生年月日：1521 ...\n",
      "url: https://colorfl.net/takedashingen-matome/\n",
      "\n",
      "title: 武田信玄の名言”人は城、人は石垣、人は堀。情けは味方、仇は敵なり” の意味とは？ | 役立つ情報がいっぱい！\n",
      "snippet: 武田信玄の名言. 武田信玄がもう少し長生きできていれば、 歴史は変わっていた かも知れないと言わしめるほどの人物です。 そんな武田信玄の名言がこちらです。 ” 人は城、人は石垣、人は堀。\n",
      "url: https://xn--k9j703lrer.com/takedashingen-meigen/\n",
      "\n"
     ]
    }
   ],
   "source": [
    "for res in response['response']:\n",
    "    print('title: ' + res['title'])\n",
    "    print('snippet: ' + res['snippet'])\n",
    "    print('url: ' + res['url'])\n",
    "    print()"
   ]
  }
 ],
 "metadata": {
  "kernelspec": {
   "display_name": "Python 3",
   "language": "python",
   "name": "python3"
  },
  "language_info": {
   "codemirror_mode": {
    "name": "ipython",
    "version": 3
   },
   "file_extension": ".py",
   "mimetype": "text/x-python",
   "name": "python",
   "nbconvert_exporter": "python",
   "pygments_lexer": "ipython3",
   "version": "3.8.5"
  }
 },
 "nbformat": 4,
 "nbformat_minor": 4
}
